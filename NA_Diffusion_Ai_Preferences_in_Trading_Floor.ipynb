{
 "cells": [
  {
   "cell_type": "markdown",
   "id": "beb352a2",
   "metadata": {},
   "source": [
    "# Code of Network Analytics Final Course Project"
   ]
  },
  {
   "cell_type": "code",
   "execution_count": null,
   "id": "2d1d12e0",
   "metadata": {
    "ExecuteTime": {
     "end_time": "2021-12-14T14:06:55.643465Z",
     "start_time": "2021-12-14T14:06:45.701999Z"
    }
   },
   "outputs": [],
   "source": [
    "# Importing Libraries\n",
    "\n",
    "import requests\n",
    "from bs4 import BeautifulSoup\n",
    "import pandas as pd\n",
    "import numpy as np\n",
    "import networkx as nx\n",
    "import matplotlib.pyplot as plt\n",
    "import seaborn as sns\n",
    "from networkx.algorithms.community import girvan_newman, modularity\n",
    "import itertools\n",
    "import matplotlib.gridspec as gridspec\n",
    "from graspologic.plot import heatmap\n",
    "from sklearn.metrics.pairwise import cosine_similarity\n",
    "import statsmodels.api as sm"
   ]
  },
  {
   "cell_type": "markdown",
   "id": "883b5115",
   "metadata": {},
   "source": [
    "# Reading the data"
   ]
  },
  {
   "cell_type": "code",
   "execution_count": null,
   "id": "3d6e207f",
   "metadata": {
    "ExecuteTime": {
     "end_time": "2021-12-14T14:06:56.218168Z",
     "start_time": "2021-12-14T14:06:55.645184Z"
    }
   },
   "outputs": [],
   "source": [
    "url = '''https://raw.githubusercontent.com/simoneSantoni/net-analysis\n",
    "-smm638/9114bedfde4195f2e5ed4fa5c868e3d41b26f939/finalCourseProject/trading_floor.xml'''\n",
    "page = requests.get(url)\n",
    "soup = BeautifulSoup(page.content, \"html.parser\")"
   ]
  },
  {
   "cell_type": "code",
   "execution_count": null,
   "id": "91730cd8",
   "metadata": {
    "ExecuteTime": {
     "end_time": "2021-12-14T14:06:56.264937Z",
     "start_time": "2021-12-14T14:06:56.219891Z"
    }
   },
   "outputs": [],
   "source": [
    "# Find all the instances of the nodes\n",
    "data_nodes = soup.find_all('node')\n",
    "\n",
    "# Parse all data of each node \n",
    "indx, ai, x_pos, y_pos = [],[],[],[]\n",
    "for i, node in enumerate(data_nodes):\n",
    "    indx.append(i)\n",
    "    ai.append(int(node.find('data',attrs={\"key\" : \"d0\"}).text))\n",
    "    x_pos.append(int(node.find('data',attrs={\"key\" : \"d1\"}).text))\n",
    "    y_pos.append(int(node.find('data',attrs={\"key\" : \"d2\"}).text))\n",
    "\n",
    "df_nodes = pd.DataFrame({'node':indx,'ai': ai,'x_pos': x_pos,'y_pos': y_pos})"
   ]
  },
  {
   "cell_type": "code",
   "execution_count": null,
   "id": "1409393c",
   "metadata": {
    "ExecuteTime": {
     "end_time": "2021-12-14T14:06:56.280124Z",
     "start_time": "2021-12-14T14:06:56.267894Z"
    }
   },
   "outputs": [],
   "source": [
    "# Find all the instances of the edges\n",
    "data_edges = soup.find_all('edge')\n",
    "\n",
    "# Create list with all pairs of edges\n",
    "edges = []\n",
    "for edge in data_edges:\n",
    "    edges.append([int(edge.get('source')), int(edge.get('target'))])\n",
    "df_edges = pd.DataFrame(edges, columns=['source','target'])"
   ]
  },
  {
   "cell_type": "code",
   "execution_count": null,
   "id": "1162980a",
   "metadata": {
    "ExecuteTime": {
     "end_time": "2021-12-14T14:06:56.310233Z",
     "start_time": "2021-12-14T14:06:56.282839Z"
    }
   },
   "outputs": [],
   "source": [
    "df_nodes.to_csv('Nodes.csv',index=False)\n",
    "df_edges.to_csv('Edges.csv',index=False)"
   ]
  },
  {
   "cell_type": "markdown",
   "id": "83d38e31",
   "metadata": {},
   "source": [
    "# Creating the Networkx Graph"
   ]
  },
  {
   "cell_type": "code",
   "execution_count": null,
   "id": "b3de1780",
   "metadata": {
    "ExecuteTime": {
     "end_time": "2021-12-14T14:06:56.325865Z",
     "start_time": "2021-12-14T14:06:56.311837Z"
    }
   },
   "outputs": [],
   "source": [
    "df_nodes = pd.read_csv('Nodes.csv')\n",
    "df_edges = pd.read_csv('Edges.csv')"
   ]
  },
  {
   "cell_type": "code",
   "execution_count": null,
   "id": "3176b741",
   "metadata": {
    "ExecuteTime": {
     "end_time": "2021-12-14T14:06:56.340832Z",
     "start_time": "2021-12-14T14:06:56.328832Z"
    }
   },
   "outputs": [],
   "source": [
    "# Populating graph with nodes and edges\n",
    "graph = nx.Graph()\n",
    "graph = nx.from_pandas_edgelist(df_edges, source='source' ,target='target')"
   ]
  },
  {
   "cell_type": "code",
   "execution_count": null,
   "id": "ee6dcd66",
   "metadata": {
    "ExecuteTime": {
     "end_time": "2021-12-14T14:06:56.356835Z",
     "start_time": "2021-12-14T14:06:56.342833Z"
    }
   },
   "outputs": [],
   "source": [
    "# Assigning additional attributes to the graph's nodes \n",
    "\n",
    "for node in graph.nodes:\n",
    "    graph.nodes[node]['ai'] = ai[node]\n",
    "    graph.nodes[node]['x_pos'] = x_pos[node]\n",
    "    graph.nodes[node]['y_pos'] = y_pos[node]"
   ]
  },
  {
   "cell_type": "markdown",
   "id": "22d4a78a",
   "metadata": {
    "ExecuteTime": {
     "end_time": "2021-12-05T13:19:52.005942Z",
     "start_time": "2021-12-05T13:19:51.996945Z"
    }
   },
   "source": [
    "# Analyse the Networkx Graph"
   ]
  },
  {
   "cell_type": "code",
   "execution_count": null,
   "id": "90a1f875",
   "metadata": {
    "ExecuteTime": {
     "end_time": "2021-12-14T14:06:56.512828Z",
     "start_time": "2021-12-14T14:06:56.358828Z"
    }
   },
   "outputs": [],
   "source": [
    "# Printing the information of a network     # Network Size = number of nodes\n",
    "print(nx.info(graph))\n",
    "\n",
    "# Print the density of the network  = Network density is the number of edges divided by the total possible edges.\n",
    "print('The density of the Network', round(nx.density(graph),3))\n",
    "\n",
    "# Shortest paths analysis\n",
    "print('The Average Path Length of the Network:',\n",
    "      round(nx.average_shortest_path_length(graph),3))\n",
    "print('The Diameter of the Network:',\n",
    "      nx.algorithms.distance_measures.diameter(graph))\n",
    "\n",
    "# Checking for isolates\n",
    "isolates = list(nx.isolates(graph))\n",
    "print('The number of isolates is', len(isolates))\n",
    "\n",
    "# Checking if the network is bipartile (2-mode network)\n",
    "print (\"Is the Networks bipartite:\", nx.is_bipartite(graph))\n",
    "\n",
    "# Finding the average degree of the node in the Network\n",
    "degrees = [d for n,d in graph.degree()]\n",
    "nodes = [n for n,d in graph.degree()]\n",
    "df_nodes_degree = pd.DataFrame({'Node': nodes, 'Degree': degrees})\n",
    "Average_Degree = sum(df_nodes_degree['Degree'])/len(df_nodes_degree['Node'])\n",
    "print(\"The Average Degree of the Network:\", Average_Degree)"
   ]
  },
  {
   "cell_type": "markdown",
   "id": "1bd41616",
   "metadata": {
    "ExecuteTime": {
     "end_time": "2021-12-05T13:22:11.520406Z",
     "start_time": "2021-12-05T13:22:11.514405Z"
    }
   },
   "source": [
    "# Analyse the distribution of Ai Preferences in the Network"
   ]
  },
  {
   "cell_type": "code",
   "execution_count": null,
   "id": "42c7e562",
   "metadata": {
    "ExecuteTime": {
     "end_time": "2021-12-14T14:06:56.542830Z",
     "start_time": "2021-12-14T14:06:56.515831Z"
    }
   },
   "outputs": [],
   "source": [
    "# Understanding the Ai prefernece in the network\n",
    "df_ai = pd.DataFrame({'Ai Preferences':ai})\n",
    "#print(df_ai['Ai Preferences'].value_counts())\n",
    "df_ai.describe()"
   ]
  },
  {
   "cell_type": "code",
   "execution_count": null,
   "id": "184f6491",
   "metadata": {
    "ExecuteTime": {
     "end_time": "2021-12-14T14:06:56.948536Z",
     "start_time": "2021-12-14T14:06:56.546838Z"
    }
   },
   "outputs": [],
   "source": [
    "# Plotting the prefernces distribution\n",
    "\n",
    "fig0 = plt.figure(figsize=(10,5))\n",
    "ax0 = fig0.add_subplot(1,2,1)\n",
    "ax1 = fig0.add_subplot(1,2,2)\n",
    "\n",
    "ax0.hist(df_ai,histtype='bar',align='mid',rwidth=0.9, bins=11)\n",
    "ax0.set_xlabel(\"Ai preferences\", fontsize=10)\n",
    "ax0.set_ylabel(\"Number of Traders\", fontsize=10)\n",
    "ax0.spines['right'].set_visible(False)\n",
    "ax0.spines['top'].set_visible(False)\n",
    "\n",
    "ax1.hist(df_ai,histtype='bar',align='mid',rwidth=0.9, cumulative=True)\n",
    "ax1.set_xlabel(\"Cumulative Ai preferences\", fontsize=10)\n",
    "ax1.set_ylabel(\"Number of Traders\", fontsize=10)\n",
    "ax1.spines['right'].set_visible(False)\n",
    "ax1.spines['top'].set_visible(False)\n",
    "\n",
    "# Save figure\n",
    "fig0.savefig(\"AI_Distribution.png\")\n",
    "\n",
    "plt.show()"
   ]
  },
  {
   "cell_type": "markdown",
   "id": "a65090e8",
   "metadata": {},
   "source": [
    "# Computing and ploting the Degree distribution"
   ]
  },
  {
   "cell_type": "code",
   "execution_count": null,
   "id": "da1f6916",
   "metadata": {
    "ExecuteTime": {
     "end_time": "2021-12-14T14:06:57.763972Z",
     "start_time": "2021-12-14T14:06:56.950492Z"
    }
   },
   "outputs": [],
   "source": [
    "# List of degrees\n",
    "k_g = sorted([d for n, d in graph.degree()], reverse=True)\n",
    "\n",
    "# Counting of the nodes with unique nummber of degrees (1st array unique degrees,\n",
    "# 2nd count of nodes with this dergee)\n",
    "p_k = np.unique(k_g, return_counts=True)\n",
    "cp_k = np.unique(k_g, return_index=True)\n",
    "\n",
    "# Ploting the degree Distribution and Cumulative degree \n",
    "fig = plt.figure(figsize=(9, 4))\n",
    "\n",
    "ax0 = fig.add_subplot(1, 2, 1)\n",
    "ax1 = fig.add_subplot(1, 2, 2)\n",
    "\n",
    "# point-to-point data\n",
    "ax0.bar(p_k[0], p_k[1]/len(k_g), alpha=1)\n",
    "ax0.set_title(\"Point-to-point probability\")\n",
    "ax0.set_ylabel(\"$Pr(k = k_{i})$\")\n",
    "ax0.set_xlabel(\"Degree $k$\")\n",
    "ax0.spines['right'].set_visible(False)\n",
    "ax0.spines['top'].set_visible(False)\n",
    "\n",
    "# cumulative probability\n",
    "ax1.bar(cp_k[0], cp_k[1]/len(k_g) , alpha=1)\n",
    "ax1.set_title(\"Cumulative probability\")\n",
    "ax1.set_ylabel(\"$Pr(k \\geq k_{i})$\")\n",
    "ax1.set_xlabel(\"Degree $k$\")\n",
    "ax1.spines['right'].set_visible(False)\n",
    "ax1.spines['top'].set_visible(False)\n",
    "\n",
    "\n",
    "# Save figure\n",
    "fig.savefig(\"Degree_Distribution.png\")\n",
    "\n",
    "plt.show()"
   ]
  },
  {
   "cell_type": "markdown",
   "id": "5073b59f",
   "metadata": {
    "ExecuteTime": {
     "end_time": "2021-12-05T12:52:00.819878Z",
     "start_time": "2021-12-05T12:52:00.805841Z"
    }
   },
   "source": [
    "## Centrality measures"
   ]
  },
  {
   "cell_type": "code",
   "execution_count": null,
   "id": "11f400d8",
   "metadata": {
    "ExecuteTime": {
     "end_time": "2021-12-14T14:06:58.125248Z",
     "start_time": "2021-12-14T14:06:57.765983Z"
    }
   },
   "outputs": [],
   "source": [
    "# degree distribution\n",
    "dc = nx.degree_centrality(graph)\n",
    "# eigenvector_centrality\n",
    "ec = nx.eigenvector_centrality(graph)\n",
    "# closeness centrality\n",
    "cc = nx.closeness_centrality(graph)\n",
    "# betweeness centrality\n",
    "bc = nx.betweenness_centrality(graph)\n",
    "df_dc = pd.DataFrame({'Degree_c': dc, 'Eigenvector_c': ec, 'Betweenness_c': bc})"
   ]
  },
  {
   "cell_type": "code",
   "execution_count": null,
   "id": "be5d507e",
   "metadata": {
    "ExecuteTime": {
     "end_time": "2021-12-14T14:07:00.314461Z",
     "start_time": "2021-12-14T14:06:58.126977Z"
    }
   },
   "outputs": [],
   "source": [
    "# Getting descriptive statistics of centrality measures\n",
    "print(df_dc.describe())\n",
    "\n",
    "# Getting correlation matrix\n",
    "print(df_dc.corr())\n",
    "\n",
    "# Plotting scatter plot matrix\n",
    "sns.pairplot(df_dc)\n",
    "plt.show()"
   ]
  },
  {
   "cell_type": "markdown",
   "id": "c2a0115d",
   "metadata": {},
   "source": [
    "# Ploting the Knowledge Network"
   ]
  },
  {
   "cell_type": "code",
   "execution_count": null,
   "id": "2c97e9ab",
   "metadata": {
    "ExecuteTime": {
     "end_time": "2021-12-14T14:07:01.801633Z",
     "start_time": "2021-12-14T14:07:00.318460Z"
    }
   },
   "outputs": [],
   "source": [
    "# Ploting the knowledge exchange graph \n",
    "fig2=plt.figure(figsize=(20,15))\n",
    "\n",
    "G = nx.Graph()\n",
    "G.add_edges_from(graph.edges())\n",
    "G.add_nodes_from(graph.nodes())\n",
    "\n",
    "deg_size = [d*200 for n,d in G.degree()]\n",
    "ai_opinion = [graph.nodes[node]['ai'] for node in G.nodes]\n",
    "\n",
    "pos = nx.layout.kamada_kawai_layout(G)\n",
    "\n",
    "options = {}\n",
    "\n",
    "nx.draw_networkx(G, pos=pos, node_size= deg_size, alpha=0.7, node_color=ai_opinion,\n",
    "                 cmap='coolwarm' )\n",
    "\n",
    "\n",
    "# Save figure\n",
    "fig2.savefig(\"Knowledge_Exchange_Network.png\")\n",
    "\n",
    "plt.show()"
   ]
  },
  {
   "cell_type": "markdown",
   "id": "c4a94f67",
   "metadata": {},
   "source": [
    "# Ploting the Knowledge Network based on trader's position in trading floor"
   ]
  },
  {
   "cell_type": "code",
   "execution_count": null,
   "id": "2668aad7",
   "metadata": {
    "ExecuteTime": {
     "end_time": "2021-12-14T14:07:02.700626Z",
     "start_time": "2021-12-14T14:07:01.803587Z"
    }
   },
   "outputs": [],
   "source": [
    "# How do traders' opinions map onto the physical layout of the trading floor?\n",
    "\n",
    "fig = plt.figure(figsize=(15,9))\n",
    "ax= fig.add_subplot(1,1,1)\n",
    "\n",
    "G1 = nx.Graph()\n",
    "G1.add_edges_from(graph.edges())\n",
    "G1.add_nodes_from(graph.nodes())\n",
    "\n",
    "points = [(node, graph.nodes[node]['x_pos'],\n",
    "           graph.nodes[node]['y_pos']) for node in graph.nodes()]\n",
    "ai_opinion = [graph.nodes[node]['ai'] for node in G1.nodes]\n",
    "\n",
    "pos1 = {n: (x, y) for n, x, y in points}\n",
    "\n",
    "nx.draw(G1,pos=pos1, node_size=600, ax=ax, edge_color ='grey', node_color=ai_opinion,\n",
    "        cmap=plt.cm.Blues)\n",
    "nx.draw_networkx_labels(G1, pos= pos1, font_size=8)  \n",
    "\n",
    "plt.axis(\"on\")\n",
    "\n",
    "# Save figure\n",
    "fig.savefig(\"Knowledge_Exchange_In trading_floor.png\")\n",
    "\n",
    "plt.show()"
   ]
  },
  {
   "cell_type": "markdown",
   "id": "d87ad334",
   "metadata": {},
   "source": [
    "# Checking modularity in our Network"
   ]
  },
  {
   "cell_type": "markdown",
   "id": "731a8687",
   "metadata": {},
   "source": [
    "## Examine Core Periphery"
   ]
  },
  {
   "cell_type": "code",
   "execution_count": null,
   "id": "46f82b00",
   "metadata": {
    "ExecuteTime": {
     "end_time": "2021-12-14T14:07:02.901589Z",
     "start_time": "2021-12-14T14:07:02.701627Z"
    }
   },
   "outputs": [],
   "source": [
    "# Plotting a heatmap for the adjacency matrix of our Network\n",
    "fig = plt.figure(figsize=(10, 10))\n",
    "ax = fig.add_subplot(1, 1, 1)\n",
    "heatmap(graph, cmap='coolwarm', ax=ax, sort_nodes=True, cbar=False) \n",
    "ax.set_title('Core-Periphery Heatmap')\n",
    "\n",
    "# Save figure\n",
    "fig.savefig(\"Heatmap_Core_Periphery.png\")\n",
    "\n",
    "plt.show()"
   ]
  },
  {
   "cell_type": "markdown",
   "id": "8881aa48",
   "metadata": {},
   "source": [
    "## Examine Communities"
   ]
  },
  {
   "cell_type": "code",
   "execution_count": null,
   "id": "e4205118",
   "metadata": {
    "ExecuteTime": {
     "end_time": "2021-12-14T14:07:16.059460Z",
     "start_time": "2021-12-14T14:07:02.903591Z"
    }
   },
   "outputs": [],
   "source": [
    "# Assess the Modularity of the number of communities using girvan_newman function\n",
    "\n",
    "solutions = girvan_newman(graph)\n",
    "com=[]\n",
    "# alternative paritioning solutions to consider\n",
    "k = 20\n",
    "# register modularity scores\n",
    "modularity_scores = dict()\n",
    "# iterate over solutions\n",
    "for community in itertools.islice(solutions, k):\n",
    "    solution = list(sorted(c) for c in community)\n",
    "    com.append(solution)\n",
    "    score = modularity(graph, solution)\n",
    "    modularity_scores[len(solution)] = score"
   ]
  },
  {
   "cell_type": "code",
   "execution_count": null,
   "id": "db74701c",
   "metadata": {
    "ExecuteTime": {
     "end_time": "2021-12-14T14:07:16.279459Z",
     "start_time": "2021-12-14T14:07:16.061187Z"
    }
   },
   "outputs": [],
   "source": [
    " # plot modularity data\n",
    "fig = plt.figure(figsize=(20,10))\n",
    "pos = list(modularity_scores.keys())\n",
    "values = list(modularity_scores.values())\n",
    "ax = fig.add_subplot(1, 1, 1)\n",
    "ax.stem(pos, values)\n",
    "ax.set_xticks(pos)\n",
    "ax.set_xlabel(r'Number of communities detected')\n",
    "ax.set_ylabel(r'Modularity score')\n",
    "plt.show()"
   ]
  },
  {
   "cell_type": "code",
   "execution_count": null,
   "id": "ae76dc49",
   "metadata": {
    "ExecuteTime": {
     "end_time": "2021-12-14T14:07:28.177662Z",
     "start_time": "2021-12-14T14:07:16.281187Z"
    }
   },
   "outputs": [],
   "source": [
    "# Explore \"optimal\" k\n",
    "\n",
    "solutions = nx.algorithms.community.girvan_newman(graph)\n",
    "k = 12\n",
    "# register modularity scores\n",
    "modularity_scores = dict()\n",
    "# iterate over solutions\n",
    "for community in itertools.islice(solutions, k):\n",
    "    solution = list(sorted(c) for c in community)\n",
    "# let's check the solution\n",
    "for i,community in enumerate(solution):\n",
    "    for node in community:\n",
    "        df_nodes.loc[df_nodes['node']==node, 'Community'] = i\n",
    "    print('The size of the', str(i), 'comminity is',len(community), 'its density is',\n",
    "          nx.density(nx.subgraph(graph, community))) # number of nodes in the community"
   ]
  },
  {
   "cell_type": "code",
   "execution_count": null,
   "id": "c039bc25",
   "metadata": {
    "ExecuteTime": {
     "end_time": "2021-12-14T14:07:28.193678Z",
     "start_time": "2021-12-14T14:07:28.178664Z"
    }
   },
   "outputs": [],
   "source": [
    "com_averages = df_nodes.groupby('Community')['ai'].aggregate(np.mean)\n",
    "com_averages "
   ]
  },
  {
   "cell_type": "code",
   "execution_count": null,
   "id": "20bdb108",
   "metadata": {
    "ExecuteTime": {
     "end_time": "2021-12-14T14:07:28.365937Z",
     "start_time": "2021-12-14T14:07:28.195664Z"
    }
   },
   "outputs": [],
   "source": [
    "fig = plt.figure()\n",
    "ax = fig.add_subplot(1,1,1)\n",
    "ax.bar(np.arange(0,13), com_averages)\n",
    "ax.set_xlabel(\"Communities\", fontsize=10)\n",
    "ax.set_ylabel(\"Average Ai preferences\", fontsize=10)\n",
    "ax.spines['right'].set_visible(False)\n",
    "ax.spines['top'].set_visible(False)\n",
    "plt.show()"
   ]
  },
  {
   "cell_type": "code",
   "execution_count": null,
   "id": "1ed8af8d",
   "metadata": {
    "ExecuteTime": {
     "end_time": "2021-12-14T14:07:29.444598Z",
     "start_time": "2021-12-14T14:07:28.366663Z"
    }
   },
   "outputs": [],
   "source": [
    "# Ploting the knowledge exchange graph \n",
    "plt.figure(figsize=(20,15))\n",
    "\n",
    "G = nx.Graph()\n",
    "G.add_edges_from(graph.edges())\n",
    "G.add_nodes_from(graph.nodes())\n",
    "\n",
    "deg_size = [graph.nodes[node]['ai']*200 for node in G.nodes]\n",
    "colors =['#0343df','#029386','#f97306','#01ff07','#13eac9',\n",
    "         '#cea2fd','#087804','#610023','#e2ca76','#c65102',\n",
    "         '#d5b60a','#ff474c','#fac205']\n",
    "\n",
    "color_map = []\n",
    "for node in G.nodes():\n",
    "    for i in range(len(solution)):\n",
    "        if node in solution[i]:\n",
    "            color_map.append(colors[i])\n",
    "\n",
    "\n",
    "\n",
    "#pos=nx.spring_layout(G)\n",
    "pos = nx.layout.kamada_kawai_layout(G)\n",
    "\n",
    "options = {}\n",
    "\n",
    "nx.draw_networkx(G, pos=pos, node_size= deg_size, alpha=0.7, node_color= color_map )\n",
    "\n",
    "plt.show()"
   ]
  },
  {
   "cell_type": "code",
   "execution_count": null,
   "id": "c1dc4746",
   "metadata": {
    "ExecuteTime": {
     "end_time": "2021-12-14T14:07:30.537558Z",
     "start_time": "2021-12-14T14:07:29.446598Z"
    }
   },
   "outputs": [],
   "source": [
    "# Ploting the knowledge exchange graph \n",
    "fig = plt.figure(figsize=(20,15))\n",
    "\n",
    "G2 = nx.Graph()\n",
    "G2.add_edges_from(graph.edges())\n",
    "G2.add_nodes_from(graph.nodes())\n",
    "\n",
    "colors =['#0343df','#029386','#f97306','#01ff07','#13eac9',\n",
    "         '#cea2fd','#087804','#610023','#e2ca76','#c65102',\n",
    "         '#d5b60a','#ff474c','#fac205']\n",
    "\n",
    "color_map = []\n",
    "for node in G2.nodes():\n",
    "    for i in range(len(solution)):\n",
    "        if node in solution[i]:\n",
    "            color_map.append(colors[i])\n",
    "\n",
    "options = {}\n",
    "\n",
    "nx.draw_networkx(G2, pos=pos1, node_size= 900, alpha=0.8, node_color= color_map )\n",
    "\n",
    "# Save figure\n",
    "fig.savefig(\"Communitites_In_trading_floor.png\")\n",
    "\n",
    "plt.show()"
   ]
  },
  {
   "cell_type": "markdown",
   "id": "4516d159",
   "metadata": {},
   "source": [
    "# Examine similarity between nodes"
   ]
  },
  {
   "cell_type": "code",
   "execution_count": null,
   "id": "32cfb875",
   "metadata": {
    "ExecuteTime": {
     "end_time": "2021-12-14T14:07:30.552717Z",
     "start_time": "2021-12-14T14:07:30.539558Z"
    }
   },
   "outputs": [],
   "source": [
    "# Appreciating dyadic similarity from Simone Tutorial\n",
    "similarity = {}\n",
    "for u, v in G.edges():\n",
    "    key = \"{}-{}\".format(u, v)\n",
    "    value = np.abs(graph.nodes[u]['ai'] - graph.nodes[v]['ai'])\n",
    "    similarity[key] = value"
   ]
  },
  {
   "cell_type": "code",
   "execution_count": null,
   "id": "30f6de05",
   "metadata": {
    "ExecuteTime": {
     "end_time": "2021-12-14T14:07:30.568240Z",
     "start_time": "2021-12-14T14:07:30.554243Z"
    }
   },
   "outputs": [],
   "source": [
    "distances = {}\n",
    "for u, v in G.edges():\n",
    "    key = \"{}-{}\".format(u, v)\n",
    "    value =np.sqrt(np.square(int(graph.nodes[u]['x_pos']) - int(graph.nodes[v]['x_pos']))\n",
    "                   + np.square(int(graph.nodes[u]['y_pos']) - int(graph.nodes[v]['y_pos'])))\n",
    "    distances[key] = value"
   ]
  },
  {
   "cell_type": "code",
   "execution_count": null,
   "id": "841575b6",
   "metadata": {
    "ExecuteTime": {
     "end_time": "2021-12-14T14:07:30.600239Z",
     "start_time": "2021-12-14T14:07:30.570238Z"
    }
   },
   "outputs": [],
   "source": [
    "df1 = pd.DataFrame({'Distance':distances.values(),})\n",
    "df2 =pd.DataFrame({'Similarity':similarity.values(), 'Edges':similarity.keys()})\n",
    "df = pd.concat([df2,df1], axis=1)"
   ]
  },
  {
   "cell_type": "code",
   "execution_count": null,
   "id": "464a739e",
   "metadata": {
    "ExecuteTime": {
     "end_time": "2021-12-14T14:07:30.632241Z",
     "start_time": "2021-12-14T14:07:30.610240Z"
    }
   },
   "outputs": [],
   "source": [
    "X = df['Distance']\n",
    "Y = df['Similarity']\n",
    "X = sm.add_constant(X)\n",
    "lm = sm.OLS(Y,X).fit()\n",
    "print(lm.summary())"
   ]
  },
  {
   "cell_type": "markdown",
   "id": "e7186228",
   "metadata": {},
   "source": [
    "# Diffusion and Cascading Behavior"
   ]
  },
  {
   "cell_type": "markdown",
   "id": "9cd0a1e7",
   "metadata": {},
   "source": [
    "In order to run it all until the end we can run a while loop which will end when the number of adopters stop growing. adopters_before = adopters_after. In each iteration we will have a counter and plot the trading floor based each iteration."
   ]
  },
  {
   "cell_type": "code",
   "execution_count": null,
   "id": "0bc104b6",
   "metadata": {
    "ExecuteTime": {
     "end_time": "2021-12-14T14:07:30.663239Z",
     "start_time": "2021-12-14T14:07:30.634257Z"
    }
   },
   "outputs": [],
   "source": [
    "# Initialise a new graph to test difussion\n",
    "dg = graph.copy()\n",
    "\n",
    "# parameters a and b for each node\n",
    "for i in dg.nodes():\n",
    "    # pay-off of adopting the new behavior\n",
    "    dg.nodes[i]['a'] = graph.nodes[i]['ai']/10 \n",
    "    # pay-off of not adopting the new behavior\n",
    "    dg.nodes[i]['b'] =  1 - dg.nodes[i]['a'] \n",
    "\n",
    "# Initializing node-level attribute reflecting adoption equal 0\n",
    "for node in dg.nodes:\n",
    "    dg.nodes[node][\"adopting\"] = 0"
   ]
  },
  {
   "cell_type": "code",
   "execution_count": null,
   "id": "0d620af2",
   "metadata": {
    "ExecuteTime": {
     "end_time": "2021-12-14T14:07:30.709477Z",
     "start_time": "2021-12-14T14:07:30.666245Z"
    }
   },
   "outputs": [],
   "source": [
    "# Creating a function to find diffussion outcome based on threshold\n",
    "\n",
    "def diffusion_threshold(thres):\n",
    "    # Create empty list of adopters\n",
    "    adopters = []\n",
    "    final_adopters = []\n",
    "    # Initializing node-level attribute reflecting adoption equal 0\n",
    "    for node in dg.nodes:\n",
    "        dg.nodes[node][\"adopting\"] = 0\n",
    "        \n",
    "    # at time 1 there are early adopters emerge for some reasons\n",
    "    # --+ new adopters\n",
    "    early_adopters = [indx for indx in dg.nodes() if dg.nodes[indx]['a']>=thres]\n",
    "    # --+ expand the set of adopters\n",
    "    adopters.extend(early_adopters)\n",
    "    final_adopters.extend(early_adopters)\n",
    "\n",
    "    new_adopters=[]\n",
    "    time =0 \n",
    "\n",
    "    # --+ adopt node attributes\n",
    "    for adopter in adopters:\n",
    "        dg.nodes[adopter]['adopting'] = 1\n",
    "    \n",
    "   # print('In the beginning of the stage', str(time), 'we have', str(len(adopters)),'adopters.')\n",
    "    # draw the network (change its color)\n",
    "    colors = []\n",
    "    for n in dg.nodes():\n",
    "        if dg.nodes[n]['adopting'] == 1:\n",
    "            colors.append('orange')\n",
    "        else:\n",
    "            colors.append('white')\n",
    "    nx.draw(dg, pos=pos1, with_labels=True, node_color=colors)\n",
    "    plt.show()\n",
    "\n",
    "\n",
    "\n",
    "    while len(adopters) != len(new_adopters):\n",
    "\n",
    "        if time != 0:\n",
    "            adopters = new_adopters.copy()\n",
    "      #  print(adopters)\n",
    "        print('-----------------------------------------------------')\n",
    "        # %% let's simulate what happens in the following periods as nodes make decisions\n",
    "\n",
    "        for focal in nodes:   # focal is each node in the graph's nodes\n",
    "            # count adopting neighbors\n",
    "            focal_nbrs = list(dg.neighbors(focal))\n",
    "            # calculating p for the number of adopters neighbours  \n",
    "            p = np.sum([dg.nodes[nbr]['adopting'] for nbr in focal_nbrs]) \n",
    "            # pay-off of adopting new behavior\n",
    "            d = dg.degree(focal)   # calculating d for the total number of neighbours  \n",
    "            a_payoff = p * dg.nodes[focal]['a']\n",
    "            b_payoff = (d - p ) * dg.nodes[focal]['b']\n",
    "\n",
    "            # decision to adopt\n",
    "            if (dg.nodes[focal]['adopting'] == 0) & (a_payoff > b_payoff):\n",
    "                dg.nodes[focal]['adopting'] = 1\n",
    "                new_adopters.append(focal)\n",
    "            else:\n",
    "                pass\n",
    "        time+=1\n",
    "        print('In stage', str(time), 'we have',\n",
    "              str(len(adopters)+len(new_adopters)),'adopters.')\n",
    "\n",
    "        colors = []\n",
    "        for n in dg.nodes():\n",
    "            if dg.nodes[n]['adopting'] == 1:\n",
    "                colors.append('orange')\n",
    "            else:\n",
    "                colors.append('white')\n",
    "        nx.draw(dg, pos=pos1, with_labels=True, node_color=colors)\n",
    "        plt.show()\n",
    "        \n",
    "        final_adopters.extend(new_adopters)\n",
    "        print(final_adopters)\n",
    "    print(thres)\n",
    "    dict_diffusion_thres['Threshold '+str(thres)] = {'Number_of_Stages': time,\n",
    "                                                     'Early_Adopters': len(early_adopters),\n",
    "                                                     'Final_Adopters': len(final_adopters) }"
   ]
  },
  {
   "cell_type": "code",
   "execution_count": null,
   "id": "9be0902e",
   "metadata": {
    "ExecuteTime": {
     "end_time": "2021-12-14T14:07:45.581841Z",
     "start_time": "2021-12-14T14:07:30.712243Z"
    }
   },
   "outputs": [],
   "source": [
    "dict_diffusion_thres = {}\n",
    "diffusion_threshold(1)\n",
    "print(\"=======================================\")\n",
    "diffusion_threshold(0.9)\n",
    "print(\"=======================================\")\n",
    "diffusion_threshold(0.8)\n",
    "print(\"=======================================\")\n",
    "diffusion_threshold(0.7)\n",
    "print(\"=======================================\")\n",
    "diffusion_threshold(0.6)\n",
    "print(\"=======================================\")\n",
    "diffusion_threshold(0.5)"
   ]
  },
  {
   "cell_type": "code",
   "execution_count": null,
   "id": "47289cd6",
   "metadata": {
    "ExecuteTime": {
     "end_time": "2021-12-14T14:07:45.612838Z",
     "start_time": "2021-12-14T14:07:45.583800Z"
    }
   },
   "outputs": [],
   "source": [
    "# Creating a function to find diffussion outcome based on threshold\n",
    "\n",
    "def diffusion_nodes(adopt,name):\n",
    "    # Create empty list of adopters\n",
    "    adopters = []\n",
    "    final_adopters = []\n",
    "    # Initializing node-level attribute reflecting adoption equal 0\n",
    "    for node in dg.nodes:\n",
    "        dg.nodes[node][\"adopting\"] = 0\n",
    "        \n",
    "    # at time 1 there are early adopters emerge for some reasons\n",
    "    # --+ new adopters\n",
    "    early_adopters = adopt\n",
    "    # --+ expand the set of adopters\n",
    "    adopters.extend(early_adopters)\n",
    "    final_adopters.extend(early_adopters)\n",
    "\n",
    "    new_adopters=[]\n",
    "    time =0 \n",
    "\n",
    "    # --+ adopt node attributes\n",
    "    for adopter in adopters:\n",
    "        dg.nodes[adopter]['adopting'] = 1\n",
    "    \n",
    "   # print('In the beginning of the stage', str(time), 'we have', str(len(adopters)),'adopters.')\n",
    "    # draw the network (change its color)\n",
    "    colors = []\n",
    "    for n in dg.nodes():\n",
    "        if dg.nodes[n]['adopting'] == 1:\n",
    "            colors.append('orange')\n",
    "        else:\n",
    "            colors.append('white')\n",
    "    nx.draw(dg, pos=pos1, with_labels=True, node_color=colors)\n",
    "    plt.show()\n",
    "\n",
    "\n",
    "\n",
    "    while len(adopters) != len(new_adopters):\n",
    "\n",
    "        if time != 0:\n",
    "            adopters = new_adopters.copy()\n",
    "      #  print(adopters)\n",
    "        print('-----------------------------------------------------')\n",
    "        # %% let's simulate what happens in the following periods as nodes make decisions\n",
    "\n",
    "        for focal in nodes:   # focal is each node in the graph's nodes\n",
    "            # count adopting neighbors\n",
    "            focal_nbrs = list(dg.neighbors(focal))\n",
    "            # calculating p for the number of adopters neighbours  \n",
    "            p = np.sum([dg.nodes[nbr]['adopting'] for nbr in focal_nbrs]) \n",
    "            # pay-off of adopting new behavior\n",
    "            d = dg.degree(focal)   # calculating d for the total number of neighbours  \n",
    "            a_payoff = p * dg.nodes[focal]['a']\n",
    "            b_payoff = (d - p ) * dg.nodes[focal]['b']\n",
    "\n",
    "            # decision to adopt\n",
    "            if (dg.nodes[focal]['adopting'] == 0) & (a_payoff > b_payoff):\n",
    "                dg.nodes[focal]['adopting'] = 1\n",
    "                new_adopters.append(focal)\n",
    "            else:\n",
    "                pass\n",
    "        time+=1\n",
    "        #print('In stage', str(time), 'we have', str(len(adopters)+len(new_adopters)),'adopters.')\n",
    "\n",
    "        colors = []\n",
    "        for n in dg.nodes():\n",
    "            if dg.nodes[n]['adopting'] == 1:\n",
    "                colors.append('orange')\n",
    "            else:\n",
    "                colors.append('white')\n",
    "        nx.draw(dg, pos=pos1, with_labels=True, node_color=colors)\n",
    "        plt.show()\n",
    "        \n",
    "        final_adopters.extend(new_adopters)\n",
    "        print(final_adopters)\n",
    "    \n",
    "    print(name)\n",
    "    community_diffusion[str(name)] = {'Number_of_Stages': time,\n",
    "                                      'Early_Adopters': len(early_adopters),\n",
    "                                      'Final_Adopters': len(final_adopters) }"
   ]
  },
  {
   "cell_type": "code",
   "execution_count": null,
   "id": "99991d6a",
   "metadata": {
    "ExecuteTime": {
     "end_time": "2021-12-14T14:08:13.572565Z",
     "start_time": "2021-12-14T14:07:45.613800Z"
    }
   },
   "outputs": [],
   "source": [
    "community_diffusion ={}\n",
    "for i, com in enumerate(solution):\n",
    "    name= 'Community '+str(i)\n",
    "    diffusion_nodes(com,name)\n",
    "    print(\"=======================================\")"
   ]
  },
  {
   "cell_type": "code",
   "execution_count": null,
   "id": "e44d80f2",
   "metadata": {
    "ExecuteTime": {
     "end_time": "2021-12-14T14:08:13.587587Z",
     "start_time": "2021-12-14T14:08:13.573567Z"
    }
   },
   "outputs": [],
   "source": [
    "diffusion = dict_diffusion_thres.copy()\n",
    "diffusion.update(community_diffusion)"
   ]
  },
  {
   "cell_type": "code",
   "execution_count": null,
   "id": "34c9c880",
   "metadata": {
    "ExecuteTime": {
     "end_time": "2021-12-14T14:08:13.603634Z",
     "start_time": "2021-12-14T14:08:13.589562Z"
    }
   },
   "outputs": [],
   "source": [
    "difussion_Results = pd.DataFrame(diffusion).T"
   ]
  },
  {
   "cell_type": "code",
   "execution_count": null,
   "id": "da3607bd",
   "metadata": {
    "ExecuteTime": {
     "end_time": "2021-12-14T14:08:13.620422Z",
     "start_time": "2021-12-14T14:08:13.606563Z"
    }
   },
   "outputs": [],
   "source": [
    "difussion_Results.loc[:,'New_Adopters'] = difussion_Results['Final_Adopters']-difussion_Results['Early_Adopters']\n",
    "difussion_Results.loc[:,'Percentage_Change'] = (difussion_Results['Final_Adopters']-\n",
    "                                                difussion_Results['Early_Adopters'])/ difussion_Results['Early_Adopters']"
   ]
  },
  {
   "cell_type": "code",
   "execution_count": null,
   "id": "bda06a84",
   "metadata": {
    "ExecuteTime": {
     "end_time": "2021-12-14T14:08:13.650864Z",
     "start_time": "2021-12-14T14:08:13.622577Z"
    }
   },
   "outputs": [],
   "source": [
    "difussion_Results"
   ]
  },
  {
   "cell_type": "code",
   "execution_count": null,
   "id": "4a5a01e4",
   "metadata": {
    "ExecuteTime": {
     "end_time": "2021-12-14T14:08:13.666993Z",
     "start_time": "2021-12-14T14:08:13.655937Z"
    }
   },
   "outputs": [],
   "source": [
    "np.mean(difussion_Results['Number_of_Stages'])"
   ]
  }
 ],
 "metadata": {
  "kernelspec": {
   "display_name": "Python 3 (ipykernel)",
   "language": "python",
   "name": "python3"
  },
  "language_info": {
   "codemirror_mode": {
    "name": "ipython",
    "version": 3
   },
   "file_extension": ".py",
   "mimetype": "text/x-python",
   "name": "python",
   "nbconvert_exporter": "python",
   "pygments_lexer": "ipython3",
   "version": "3.8.11"
  },
  "toc": {
   "base_numbering": 1,
   "nav_menu": {},
   "number_sections": true,
   "sideBar": true,
   "skip_h1_title": false,
   "title_cell": "Table of Contents",
   "title_sidebar": "Contents",
   "toc_cell": false,
   "toc_position": {
    "height": "calc(100% - 180px)",
    "left": "10px",
    "top": "150px",
    "width": "384px"
   },
   "toc_section_display": true,
   "toc_window_display": false
  },
  "varInspector": {
   "cols": {
    "lenName": 16,
    "lenType": 16,
    "lenVar": 40
   },
   "kernels_config": {
    "python": {
     "delete_cmd_postfix": "",
     "delete_cmd_prefix": "del ",
     "library": "var_list.py",
     "varRefreshCmd": "print(var_dic_list())"
    },
    "r": {
     "delete_cmd_postfix": ") ",
     "delete_cmd_prefix": "rm(",
     "library": "var_list.r",
     "varRefreshCmd": "cat(var_dic_list()) "
    }
   },
   "types_to_exclude": [
    "module",
    "function",
    "builtin_function_or_method",
    "instance",
    "_Feature"
   ],
   "window_display": false
  }
 },
 "nbformat": 4,
 "nbformat_minor": 5
}
